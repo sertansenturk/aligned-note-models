{
 "cells": [
  {
   "cell_type": "code",
   "execution_count": 1,
   "metadata": {
    "collapsed": false
   },
   "outputs": [],
   "source": [
    "%matplotlib inline\n",
    "\n",
    "import os\n",
    "import json\n",
    "import matplotlib.pyplot as plt\n",
    "import numpy as np\n",
    "\n",
    "from alignednotemodel.PitchDistribution import hz_to_cent, cent_to_hz\n",
    "from alignednotemodel import alignednotemodel\n",
    "\n",
    "import pdb"
   ]
  },
  {
   "cell_type": "code",
   "execution_count": 2,
   "metadata": {
    "collapsed": false
   },
   "outputs": [],
   "source": [
    "folder = 'ussak--sazsemaisi--aksaksemai----dede_salih_efendi'\n",
    "pitchfile = os.path.join(folder, 'pitch_corrected.json')\n",
    "notefile = os.path.join(folder, 'alignedNotes.json')\n",
    "tonicfile = os.path.join(folder, 'tonic.json')\n",
    "tuningfile = os.path.join(folder, 'tuning.json')\n",
    "\n",
    "modelsavefile = os.path.join(folder, 'noteModels.json')"
   ]
  },
  {
   "cell_type": "code",
   "execution_count": 3,
   "metadata": {
    "collapsed": false
   },
   "outputs": [],
   "source": [
    "pitch = json.load(open(pitchfile, 'r'))\n",
    "alignednotes = json.load(open(notefile, 'r'))['notes']\n",
    "tonic = json.load(open(tonicfile, 'r'))['scoreInformed']\n",
    "tuning = json.load(open(tuningfile, 'r'))['scoreInformed']"
   ]
  },
  {
   "cell_type": "code",
   "execution_count": 4,
   "metadata": {
    "collapsed": false,
    "scrolled": false
   },
   "outputs": [],
   "source": [
    "noteModels, pitchDistibution, newTonic = alignednotemodel.getModels(pitch, alignednotes, tonic, \n",
    "                                                                    tuning, kernel_width=7.5)\n"
   ]
  },
  {
   "cell_type": "code",
   "execution_count": 5,
   "metadata": {
    "collapsed": false
   },
   "outputs": [
    {
     "data": {
      "image/png": "[encoded data removed]",
      "text/plain": [
       "<matplotlib.figure.Figure at 0x10fe2a750>"
      ]
     },
     "metadata": {},
     "output_type": "display_data"
    }
   ],
   "source": [
    "pitch = np.array(pitch)\n",
    "\n",
    "fig, (ax1, ax2) = plt.subplots(1,2,sharey=True)\n",
    "ax1.plot(pitch[:,0], pitch[:,1], 'g', label='Pitch', alpha = 0.7)\n",
    "fig.subplots_adjust(wspace=0)\n",
    "ax1.set_xlabel('Time (sec)')\n",
    "ax1.yaxis.grid(True)\n",
    "for note in alignednotes:\n",
    "    ax1.plot(note['Interval'], cent_to_hz(\n",
    "            [note['Pitch']['Value'], note['Pitch']['Value']], tonic['Value']), \n",
    "            'r', alpha=0.4, linewidth=4) \n",
    "\n",
    "ax2.plot(pitchDistibution.vals, pitchDistibution.bins, '-.', color='#606060')\n",
    "for key in noteModels.keys():\n",
    "    ax2.plot(noteModels[key]['distribution']['vals'], noteModels[key]['distribution']['bins'], \n",
    "             label=key)\n",
    "\n",
    "ax2.set_yticklabels(noteModels.keys())\n",
    "ax2.set_yticks([nm['stablepitch']['Value'] for nm in noteModels.values()])\n",
    "ax2.axis('off')\n",
    "ax2.yaxis.grid(True)\n",
    "\n",
    "ax2.set_xticklabels([])\n",
    "ax2.spines['top'].set_visible(False)\n",
    "ax2.spines['right'].set_visible(False)\n",
    "ax2.spines['bottom'].set_visible(False)\n",
    "ax2.spines['left'].set_visible(False)\n",
    "\n",
    "plt.show()"
   ]
  },
  {
   "cell_type": "code",
   "execution_count": 6,
   "metadata": {
    "collapsed": false
   },
   "outputs": [],
   "source": [
    "#for note in noteModels['C5']['notes']:\n",
    "#    plt.plot(note['trajectory'][:,0], note['trajectory'][:,1])\n",
    "#    plt.show()"
   ]
  },
  {
   "cell_type": "code",
   "execution_count": 7,
   "metadata": {
    "collapsed": false
   },
   "outputs": [],
   "source": [
    "#fig, ax = plt.subplots()\n",
    "#ax.plot(pitchDistibution.bins, pitchDistibution.vals, '-.', color='#606060')\n",
    "#for key in noteModels.keys():\n",
    "#    ax.plot(noteModels[key]['distribution'].bins, noteModels[key]['distribution'].vals, label=key)\n",
    "#legend = ax.legend(loc='upper right') \n",
    "#plt.show()"
   ]
  },
  {
   "cell_type": "code",
   "execution_count": null,
   "metadata": {
    "collapsed": true
   },
   "outputs": [],
   "source": []
  }
 ],
 "metadata": {
  "kernelspec": {
   "display_name": "Python 2",
   "language": "python",
   "name": "python2"
  },
  "language_info": {
   "codemirror_mode": {
    "name": "ipython",
    "version": 2
   },
   "file_extension": ".py",
   "mimetype": "text/x-python",
   "name": "python",
   "nbconvert_exporter": "python",
   "pygments_lexer": "ipython2",
   "version": "2.7.10"
  }
 },
 "nbformat": 4,
 "nbformat_minor": 0
}
